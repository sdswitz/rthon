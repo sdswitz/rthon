{
 "cells": [
  {
   "cell_type": "code",
   "execution_count": 1,
   "id": "5b614a6c",
   "metadata": {},
   "outputs": [],
   "source": [
    "from rthon import dnorm, pnorm, qnorm, rnorm"
   ]
  },
  {
   "cell_type": "code",
   "execution_count": 2,
   "id": "b18dce24",
   "metadata": {},
   "outputs": [
    {
     "data": {
      "text/plain": [
       "0.9986501019683699"
      ]
     },
     "execution_count": 2,
     "metadata": {},
     "output_type": "execute_result"
    }
   ],
   "source": [
    "pnorm(145, 100, 15)"
   ]
  },
  {
   "cell_type": "code",
   "execution_count": 3,
   "id": "e0251830",
   "metadata": {},
   "outputs": [
    {
     "data": {
      "text/plain": [
       "[0.24197072451914337, 0.3989422804014327, 0.24197072451914337]"
      ]
     },
     "execution_count": 3,
     "metadata": {},
     "output_type": "execute_result"
    }
   ],
   "source": [
    "dnorm([0,1,2], mean=1)"
   ]
  },
  {
   "cell_type": "code",
   "execution_count": 8,
   "id": "e08bcb53",
   "metadata": {},
   "outputs": [
    {
     "data": {
      "text/plain": [
       "0.9499999999997494"
      ]
     },
     "execution_count": 8,
     "metadata": {},
     "output_type": "execute_result"
    }
   ],
   "source": [
    "pnorm(qnorm(0.95))"
   ]
  },
  {
   "cell_type": "code",
   "execution_count": 3,
   "id": "b1c91780",
   "metadata": {},
   "outputs": [],
   "source": [
    "import torch"
   ]
  },
  {
   "cell_type": "markdown",
   "id": "6833c79f",
   "metadata": {},
   "source": [
    "$$ A = \\begin{bmatrix}\n",
    "    12 & -51 & 4 \\\\\n",
    "    6 & 167 & -68 \\\\\n",
    "    -5 & 24 & -41 \\\\\n",
    "\\end{bmatrix} $$"
   ]
  },
  {
   "cell_type": "markdown",
   "id": "9d03c621",
   "metadata": {},
   "source": [
    "$\\beta^{\\hat}$"
   ]
  },
  {
   "cell_type": "code",
   "execution_count": 4,
   "id": "81bc8b05",
   "metadata": {},
   "outputs": [
    {
     "data": {
      "text/plain": [
       "tensor([[ 12, -51,   4],\n",
       "        [  6, 167, -68],\n",
       "        [ -4,  24, -41]])"
      ]
     },
     "execution_count": 4,
     "metadata": {},
     "output_type": "execute_result"
    }
   ],
   "source": [
    "A = [[12,-51,4], [6,167,-68], [-4,24,-41]]\n",
    "A = torch.tensor(A)\n",
    "A"
   ]
  },
  {
   "cell_type": "code",
   "execution_count": 5,
   "id": "9d7d5f7f",
   "metadata": {},
   "outputs": [],
   "source": [
    "def proj(u, a):\n",
    "    return (torch.dot(u, a) / torch.dot(u,u)) * u"
   ]
  },
  {
   "cell_type": "code",
   "execution_count": 19,
   "id": "a827c145",
   "metadata": {},
   "outputs": [
    {
     "name": "stderr",
     "output_type": "stream",
     "text": [
      "/var/folders/cv/g8dv5_b52gbgs1s_0p35wrx40000gn/T/ipykernel_48687/4140255439.py:1: UserWarning: To copy construct from a tensor, it is recommended to use sourceTensor.clone().detach() or sourceTensor.clone().detach().requires_grad_(True), rather than torch.tensor(sourceTensor).\n",
      "  a1 = torch.tensor(A[:,0], dtype=torch.float32)\n"
     ]
    }
   ],
   "source": [
    "a1 = torch.tensor(A[:,0], dtype=torch.float32)\n",
    "e1 = a1 / torch.linalg.vector_norm(a1)\n",
    "# print(a1)\n",
    "# type(a1)"
   ]
  },
  {
   "cell_type": "code",
   "execution_count": 20,
   "id": "a0141865",
   "metadata": {},
   "outputs": [
    {
     "data": {
      "text/plain": [
       "tensor([12.,  6., -4.])"
      ]
     },
     "execution_count": 20,
     "metadata": {},
     "output_type": "execute_result"
    }
   ],
   "source": [
    "torch.dot(a1, e1) * e1"
   ]
  },
  {
   "cell_type": "code",
   "execution_count": 24,
   "id": "7b204cf3",
   "metadata": {},
   "outputs": [
    {
     "name": "stderr",
     "output_type": "stream",
     "text": [
      "/var/folders/cv/g8dv5_b52gbgs1s_0p35wrx40000gn/T/ipykernel_48687/3203289793.py:1: UserWarning: To copy construct from a tensor, it is recommended to use sourceTensor.clone().detach() or sourceTensor.clone().detach().requires_grad_(True), rather than torch.tensor(sourceTensor).\n",
      "  a1 = torch.tensor(A[:,0], dtype=torch.float32)\n",
      "/var/folders/cv/g8dv5_b52gbgs1s_0p35wrx40000gn/T/ipykernel_48687/3203289793.py:2: UserWarning: To copy construct from a tensor, it is recommended to use sourceTensor.clone().detach() or sourceTensor.clone().detach().requires_grad_(True), rather than torch.tensor(sourceTensor).\n",
      "  a2 = torch.tensor(A[:,1], dtype=torch.float32)\n",
      "/var/folders/cv/g8dv5_b52gbgs1s_0p35wrx40000gn/T/ipykernel_48687/3203289793.py:3: UserWarning: To copy construct from a tensor, it is recommended to use sourceTensor.clone().detach() or sourceTensor.clone().detach().requires_grad_(True), rather than torch.tensor(sourceTensor).\n",
      "  a3 = torch.tensor(A[:,2], dtype=torch.float32)\n"
     ]
    }
   ],
   "source": [
    "a1 = torch.tensor(A[:,0], dtype=torch.float32)\n",
    "a2 = torch.tensor(A[:,1], dtype=torch.float32)\n",
    "a3 = torch.tensor(A[:,2], dtype=torch.float32)\n",
    "\n",
    "u1 = a1; e1 = a1 / torch.linalg.vector_norm(a1)\n",
    "\n",
    "u2 = a2 - proj(u1, a2); e2 = a2 / torch.linalg.vector_norm(a2)\n",
    "\n",
    "u3 = a3 - proj(u1, a3) - proj(u2, a3); e3 = a3 / torch.linalg.vector_norm(a3)"
   ]
  },
  {
   "cell_type": "code",
   "execution_count": 25,
   "id": "8f695681",
   "metadata": {},
   "outputs": [],
   "source": [
    "an1 = torch.dot(e1, a1) * e1\n",
    "an2 = torch.dot(e1, a2) * e1 + torch.dot(e2, a2) * e2\n",
    "an3 = torch.dot(e1, a3) * e1 + torch.dot(e2, a3) * e2 + torch.dot(e3, a3) * e3"
   ]
  },
  {
   "attachments": {
    "image.png": {
     "image/png": "[encoded data removed]"
    }
   },
   "cell_type": "markdown",
   "id": "c84fdc9e",
   "metadata": {},
   "source": [
    "![image.png](attachment:image.png)"
   ]
  },
  {
   "cell_type": "code",
   "execution_count": 32,
   "id": "8f917f6b",
   "metadata": {},
   "outputs": [],
   "source": [
    "Q = torch.cat([e1.view(-1, 1), e2.view(-1, 1), e3.view(-1, 1)], dim=1)\n",
    "\n",
    "R = torch.tensor([[torch.dot(e1, an1), torch.dot(e1, an2), torch.dot(e1, an3)],\n",
    "                  [0, torch.dot(e2, an2), torch.dot(e2, an3)],\n",
    "                  [0, 0, torch.dot(e3, an3)]\n",
    "                  ])"
   ]
  },
  {
   "attachments": {
    "image.png": {
     "image/png": "[encoded data removed]"
    }
   },
   "cell_type": "markdown",
   "id": "8de810b7",
   "metadata": {},
   "source": [
    "![image.png](attachment:image.png)"
   ]
  },
  {
   "cell_type": "code",
   "execution_count": null,
   "id": "d725ae2a",
   "metadata": {},
   "outputs": [
    {
     "data": {
      "text/plain": [
       "tensor([[ 0.8571, -0.2894,  0.0503],\n",
       "        [ 0.4286,  0.9475, -0.8553],\n",
       "        [-0.2857,  0.1362, -0.5157]])"
      ]
     },
     "execution_count": 33,
     "metadata": {},
     "output_type": "execute_result"
    }
   ],
   "source": [
    "Q"
   ]
  },
  {
   "cell_type": "code",
   "execution_count": 40,
   "id": "09e2d27f",
   "metadata": {},
   "outputs": [
    {
     "data": {
      "text/plain": [
       "[Fraction(14380471, 16777216),\n",
       " Fraction(-9709065, 33554432),\n",
       " Fraction(13505385, 268435456),\n",
       " Fraction(14380471, 33554432),\n",
       " Fraction(7948107, 8388608),\n",
       " Fraction(-448421, 524288),\n",
       " Fraction(-9586981, 33554432),\n",
       " Fraction(9137943, 67108864),\n",
       " Fraction(-540743, 1048576)]"
      ]
     },
     "execution_count": 40,
     "metadata": {},
     "output_type": "execute_result"
    }
   ],
   "source": [
    "from fractions import Fraction\n",
    "\n",
    "[Fraction(x.item()) for x in Q.view(-1)]"
   ]
  },
  {
   "cell_type": "code",
   "execution_count": 42,
   "id": "22c9bfb0",
   "metadata": {},
   "outputs": [
    {
     "name": "stdout",
     "output_type": "stream",
     "text": [
      "tensor([ 0.8571,  0.4286, -0.2857])\n",
      "tensor([12.,  6., -4.])\n"
     ]
    }
   ],
   "source": [
    "print(e1)\n",
    "print(an1)"
   ]
  },
  {
   "cell_type": "markdown",
   "id": "6c8503af",
   "metadata": {},
   "source": [
    "Option 1: Install in Development Mode (Recommended for testing)\n",
    "\n",
    "  #From the rthon root directory\n",
    "  pip uninstall rthon  # Remove PyPI version\n",
    "  pip install -e .     # Install local development version\n",
    "\n",
    "Option 4: Publish New Version to PyPI (For wider use)\n",
    "\n",
    "  If you want to make this available to others:\n",
    "\n",
    "  1. Update version in pyproject.toml (it's currently 0.3.0)\n",
    "  2. Build and upload:\n",
    "  pip install build twine\n",
    "  python -m build\n",
    "  python -m twine upload dist/*\n",
    "\n",
    "  Current State:\n",
    "\n",
    "  - PyPI version: Only has probability distributions (dnorm, pnorm, etc.)\n",
    "  - Your local version: Has both distributions AND the new lm() function\n",
    "\n",
    "  For immediate testing, I recommend Option 1 (development install), which will let you use all the new regression functionality\n",
    "   we just implemented.\n",
    "\n",
    "  The import error you're getting is because Python is finding the older PyPI version instead of your enhanced local version\n",
    "  with the regression module."
   ]
  },
  {
   "cell_type": "code",
   "execution_count": 7,
   "id": "0c7d3b2e",
   "metadata": {},
   "outputs": [],
   "source": [
    "import rthon as r"
   ]
  },
  {
   "cell_type": "code",
   "execution_count": 2,
   "id": "bab957fc",
   "metadata": {},
   "outputs": [],
   "source": [
    "import pandas as pd"
   ]
  },
  {
   "cell_type": "code",
   "execution_count": 3,
   "id": "51d8d389",
   "metadata": {},
   "outputs": [],
   "source": [
    "gala = pd.read_csv(\"/Users/samswitz/Desktop/UIUC/Fall 25/STAT-527/gala.csv\")"
   ]
  },
  {
   "cell_type": "code",
   "execution_count": 4,
   "id": "369d9288",
   "metadata": {},
   "outputs": [
    {
     "data": {
      "text/html": [
       "<div>\n",
       "<style scoped>\n",
       "    .dataframe tbody tr th:only-of-type {\n",
       "        vertical-align: middle;\n",
       "    }\n",
       "\n",
       "    .dataframe tbody tr th {\n",
       "        vertical-align: top;\n",
       "    }\n",
       "\n",
       "    .dataframe thead th {\n",
       "        text-align: right;\n",
       "    }\n",
       "</style>\n",
       "<table border=\"1\" class=\"dataframe\">\n",
       "  <thead>\n",
       "    <tr style=\"text-align: right;\">\n",
       "      <th></th>\n",
       "      <th>species</th>\n",
       "      <th>endemics</th>\n",
       "      <th>area</th>\n",
       "      <th>elevation</th>\n",
       "      <th>nearest</th>\n",
       "      <th>scruz</th>\n",
       "      <th>adjacent</th>\n",
       "    </tr>\n",
       "  </thead>\n",
       "  <tbody>\n",
       "    <tr>\n",
       "      <th>0</th>\n",
       "      <td>58</td>\n",
       "      <td>23</td>\n",
       "      <td>25.09</td>\n",
       "      <td>346</td>\n",
       "      <td>0.6</td>\n",
       "      <td>0.6</td>\n",
       "      <td>1.84</td>\n",
       "    </tr>\n",
       "    <tr>\n",
       "      <th>1</th>\n",
       "      <td>31</td>\n",
       "      <td>21</td>\n",
       "      <td>1.24</td>\n",
       "      <td>109</td>\n",
       "      <td>0.6</td>\n",
       "      <td>26.3</td>\n",
       "      <td>572.33</td>\n",
       "    </tr>\n",
       "    <tr>\n",
       "      <th>2</th>\n",
       "      <td>3</td>\n",
       "      <td>3</td>\n",
       "      <td>0.21</td>\n",
       "      <td>114</td>\n",
       "      <td>2.8</td>\n",
       "      <td>58.7</td>\n",
       "      <td>0.78</td>\n",
       "    </tr>\n",
       "    <tr>\n",
       "      <th>3</th>\n",
       "      <td>25</td>\n",
       "      <td>9</td>\n",
       "      <td>0.10</td>\n",
       "      <td>46</td>\n",
       "      <td>1.9</td>\n",
       "      <td>47.4</td>\n",
       "      <td>0.18</td>\n",
       "    </tr>\n",
       "    <tr>\n",
       "      <th>4</th>\n",
       "      <td>2</td>\n",
       "      <td>1</td>\n",
       "      <td>0.05</td>\n",
       "      <td>77</td>\n",
       "      <td>1.9</td>\n",
       "      <td>1.9</td>\n",
       "      <td>903.82</td>\n",
       "    </tr>\n",
       "  </tbody>\n",
       "</table>\n",
       "</div>"
      ],
      "text/plain": [
       "   species  endemics   area  elevation  nearest  scruz  adjacent\n",
       "0       58        23  25.09        346      0.6    0.6      1.84\n",
       "1       31        21   1.24        109      0.6   26.3    572.33\n",
       "2        3         3   0.21        114      2.8   58.7      0.78\n",
       "3       25         9   0.10         46      1.9   47.4      0.18\n",
       "4        2         1   0.05         77      1.9    1.9    903.82"
      ]
     },
     "execution_count": 4,
     "metadata": {},
     "output_type": "execute_result"
    }
   ],
   "source": [
    "gala.columns = gala.columns.str.lower()\n",
    "gala.head()"
   ]
  },
  {
   "cell_type": "code",
   "execution_count": 5,
   "id": "51f5976b",
   "metadata": {},
   "outputs": [],
   "source": [
    "gd = gala.to_dict(orient='list')"
   ]
  },
  {
   "cell_type": "code",
   "execution_count": null,
   "id": "25587968",
   "metadata": {},
   "outputs": [
    {
     "name": "stdout",
     "output_type": "stream",
     "text": [
      "Linear Regression Results\n",
      "==================================================\n",
      "Formula: species ~ area + elevation + nearest + scruz + adjacent\n",
      "Observations: 30\n",
      "Degrees of Freedom: 24\n",
      "\n",
      "Coefficients:\n",
      "----------------------------------------------------------------------\n",
      "                  Estimate Std. Error  t value   Pr(>|t|)\n",
      "----------------------------------------------------------------------\n",
      "    (Intercept)   6.891198  72.271795    0.095     0.9240\n",
      "           area  -0.046234  72.271795   -0.001     0.9995\n",
      "      elevation   0.367337  72.271795    0.005     0.9959\n",
      "        nearest  -2.832844  72.271795   -0.039     0.9687\n",
      "          scruz   0.032710  72.271795    0.000     0.9996\n",
      "       adjacent  -0.104810  72.271795   -0.001     0.9988\n",
      "----------------------------------------------------------------------\n",
      "Signif. codes:  0 '***' 0.001 '**' 0.01 '*' 0.05 '.' 0.1 ' ' 1\n",
      "\n",
      "Residual standard error: 72.2718 on 24 degrees of freedom\n",
      "Multiple R-squared:  0.6710\n",
      "Adjusted R-squared:  0.6025\n",
      "F-statistic: 12.49 on 5 and 24 DF\n",
      "p-value: 0.0000\n"
     ]
    }
   ],
   "source": [
    "model = r.\n",
    "# summr = model.summary()\n",
    "print(model.summary())"
   ]
  },
  {
   "cell_type": "code",
   "execution_count": 28,
   "id": "4bc19490",
   "metadata": {},
   "outputs": [
    {
     "data": {
      "text/plain": [
       "\"Linear Regression Results\\\\n==================================================\\\\nFormula: species ~ area + elevation + nearest + scruz + adjacent\\\\nObservations: 30\\\\nDegrees of Freedom: 24\\\\n\\\\nCoefficients:\\\\n----------------------------------------------------------------------\\\\n                  Estimate Std. Error  t value   Pr(>|t|)\\\\n----------------------------------------------------------------------\\\\n    (Intercept)   6.891198  72.271795    0.095     0.9240\\\\n           area  -0.046234  72.271795   -0.001     0.9995\\\\n      elevation   0.367337  72.271795    0.005     0.9959\\\\n        nearest  -2.832844  72.271795   -0.039     0.9687\\\\n          scruz   0.032710  72.271795    0.000     0.9996\\\\n       adjacent  -0.104810  72.271795   -0.001     0.9988\\\\n----------------------------------------------------------------------\\\\nSignif. codes:  0 '***' 0.001 '**' 0.01 '*' 0.05 '.' 0.1 ' ' 1\\\\n\\\\nResidual standard error: 72.2718 on 24 degrees of freedom\\\\nMultiple R-squared:  0.6710\\\\nAdjusted R-squared:  0.6025\\\\nF-statistic: 12.49 on 5 and 24 DF\\\\np-value: 0.0000\""
      ]
     },
     "execution_count": 28,
     "metadata": {},
     "output_type": "execute_result"
    }
   ],
   "source": [
    "import re\n",
    "\n",
    "sp = \"\\\\.\"\n",
    "\n",
    "esc = re.escape(sp)\n",
    "\n",
    "re.sub(esc, \"\", summr)"
   ]
  },
  {
   "cell_type": "code",
   "execution_count": 13,
   "id": "e52156a5",
   "metadata": {},
   "outputs": [
    {
     "name": "stdout",
     "output_type": "stream",
     "text": [
      "R² = -122.1879\n"
     ]
    }
   ],
   "source": [
    "data = {\"mpg\": [21, 22, 18, 20], \"hp\": [110, 95, 150, 130], \"wt\": [2.5, 2.3, 3.2, 3.1]}\n",
    "model = lm(\"mpg ~ hp + wt\", data=data)\n",
    "print(f\"R² = {model.r_squared:.4f}\")"
   ]
  },
  {
   "cell_type": "markdown",
   "id": "36646f89",
   "metadata": {},
   "source": [
    "## QR Decomp"
   ]
  },
  {
   "cell_type": "markdown",
   "id": "4e397501",
   "metadata": {},
   "source": [
    "residuals: $$ r=y-X\\hat{\\beta} $$"
   ]
  },
  {
   "cell_type": "markdown",
   "id": "40964eca",
   "metadata": {},
   "source": []
  },
  {
   "cell_type": "markdown",
   "id": "f4572fd3",
   "metadata": {},
   "source": []
  },
  {
   "cell_type": "markdown",
   "id": "104364de",
   "metadata": {},
   "source": []
  },
  {
   "cell_type": "markdown",
   "id": "9090c02e",
   "metadata": {},
   "source": [
    "## Cats"
   ]
  },
  {
   "cell_type": "code",
   "execution_count": 8,
   "id": "c74d7b8d",
   "metadata": {},
   "outputs": [],
   "source": [
    "cats = pd.read_csv(\"/Users/samswitz/Desktop/UIUC/Fall 25/STAT-527/cats.csv\")"
   ]
  },
  {
   "cell_type": "code",
   "execution_count": 10,
   "id": "9b5ee613",
   "metadata": {},
   "outputs": [],
   "source": [
    "ct = cats.to_dict(orient='list')"
   ]
  },
  {
   "cell_type": "code",
   "execution_count": 12,
   "id": "7724a0b1",
   "metadata": {},
   "outputs": [
    {
     "name": "stdout",
     "output_type": "stream",
     "text": [
      "Linear Regression Results\n",
      "==================================================\n",
      "Formula: Hwt ~ Bwt\n",
      "Observations: 144\n",
      "Degrees of Freedom: 142\n",
      "\n",
      "Coefficients:\n",
      "----------------------------------------------------------------------\n",
      "                  Estimate Std. Error  t value   Pr(>|t|)\n",
      "----------------------------------------------------------------------\n",
      "    (Intercept)  12.474889   2.716373    4.592 4.38e-06 ***\n",
      "            Bwt  -0.679341   2.716373   -0.250     0.8025\n",
      "----------------------------------------------------------------------\n",
      "Signif. codes:  0 '***' 0.001 '**' 0.01 '*' 0.05 '.' 0.1 ' ' 1\n",
      "\n",
      "Residual standard error: 2.7164 on 142 degrees of freedom\n",
      "Multiple R-squared:  -0.2361\n",
      "Adjusted R-squared:  -0.2448\n",
      "F-statistic: 2.11 on 1 and 142 DF\n",
      "p-value: 0.0500\n"
     ]
    }
   ],
   "source": [
    "mod = lm(\"Hwt ~ Bwt\", data=ct)\n",
    "print(mod.summary())"
   ]
  },
  {
   "cell_type": "code",
   "execution_count": 4,
   "id": "043ef46f",
   "metadata": {},
   "outputs": [
    {
     "name": "stdout",
     "output_type": "stream",
     "text": [
      "listenlabs.ai/puzzle\n"
     ]
    }
   ],
   "source": [
    "import tiktoken\n",
    "\n",
    "encoding = tiktoken.get_encoding(\"o200k_base\")\n",
    "\n",
    "token_ids = [64659, 123310, 75584, 8138, 38271] # Example token IDs\n",
    "decoded_text = encoding.decode(token_ids)\n",
    "print(decoded_text)\n",
    "# encoding.decode([75584])"
   ]
  },
  {
   "cell_type": "code",
   "execution_count": 8,
   "id": "96edb4da",
   "metadata": {},
   "outputs": [
    {
     "name": "stdout",
     "output_type": "stream",
     "text": [
      "Obtaining file:///Users/samswitz/GitHub/rthon\n",
      "  Installing build dependencies ... \u001b[?25ldone\n",
      "\u001b[?25h  Checking if build backend supports build_editable ... \u001b[?25ldone\n",
      "\u001b[?25h  Getting requirements to build editable ... \u001b[?25ldone\n",
      "\u001b[?25h  Preparing editable metadata (pyproject.toml) ... \u001b[?25ldone\n",
      "\u001b[?25hRequirement already satisfied: numpy>=1.19.0 in /Users/samswitz/miniforge3/lib/python3.10/site-packages (from rthon==0.4.0) (2.2.0)\n",
      "Building wheels for collected packages: rthon\n",
      "  Building editable for rthon (pyproject.toml) ... \u001b[?25ldone\n",
      "\u001b[?25h  Created wheel for rthon: filename=rthon-0.4.0-0.editable-cp310-cp310-macosx_11_0_arm64.whl size=3238 sha256=39ac80841430384e5dab9c5ff46af4168f9c07a9043580a2b8db265d9f55bff3\n",
      "  Stored in directory: /private/var/folders/cv/g8dv5_b52gbgs1s_0p35wrx40000gn/T/pip-ephem-wheel-cache-z4mod88d/wheels/2d/d0/dd/abed0394692e6e605fe45c141f167b185c46d1217054405f54\n",
      "Successfully built rthon\n",
      "Installing collected packages: rthon\n",
      "  Attempting uninstall: rthon\n",
      "    Found existing installation: rthon 0.4.0\n",
      "    Uninstalling rthon-0.4.0:\n",
      "      Successfully uninstalled rthon-0.4.0\n",
      "Successfully installed rthon-0.4.0\n"
     ]
    }
   ],
   "source": [
    "!pip install -e ."
   ]
  },
  {
   "cell_type": "code",
   "execution_count": 9,
   "id": "d26dbdca",
   "metadata": {},
   "outputs": [],
   "source": [
    "import pandas as pd\n",
    "import rthon as r"
   ]
  },
  {
   "cell_type": "code",
   "execution_count": 11,
   "id": "fee9d970",
   "metadata": {},
   "outputs": [
    {
     "name": "stdout",
     "output_type": "stream",
     "text": [
      "Name: rthon\n",
      "Version: 0.4.0\n",
      "Summary: R-style probability functions for Python with high-performance C linear regression\n",
      "Home-page: https://github.com/sdswitz/rthon\n",
      "Author: \n",
      "Author-email: Sam Switz <samuel76@illinois.edu>\n",
      "License: MIT\n",
      "Location: /Users/samswitz/miniforge3/lib/python3.10/site-packages\n",
      "Editable project location: /Users/samswitz/GitHub/rthon\n",
      "Requires: numpy\n",
      "Required-by: \n"
     ]
    }
   ],
   "source": [
    "!pip show rthon"
   ]
  },
  {
   "cell_type": "code",
   "execution_count": 29,
   "id": "8f7168ab",
   "metadata": {},
   "outputs": [],
   "source": [
    "df = pd.read_csv(\"/Users/samswitz/Desktop/UIUC/Fall 25/STAT-527/prostate.csv\")\n",
    "data = df.to_dict(orient='list')\n",
    "# mod = r.lm(\"lpsa ~ lcavol + lweight + age + lbph + svi + lcp + gleason + pgg45\", data=data)\n",
    "\n",
    "y = df.lpsa.values.tolist()\n",
    "X = df.iloc[:,:8].values.tolist()\n",
    "# list(X)"
   ]
  },
  {
   "cell_type": "code",
   "execution_count": 30,
   "id": "128d1e9e",
   "metadata": {},
   "outputs": [
    {
     "name": "stdout",
     "output_type": "stream",
     "text": [
      "Linear Regression Results\n",
      "==================================================\n",
      "Observations: 97\n",
      "Degrees of Freedom: 89\n",
      "\n",
      "Coefficients:\n",
      "----------------------------------------------------------------------\n",
      "                  Estimate Std. Error  t value   Pr(>|t|)\n",
      "----------------------------------------------------------------------\n",
      "             X1   0.578317   1.000000    0.578     0.5630\n",
      "             X2   0.495798   1.000000    0.496     0.6200\n",
      "             X3  -0.017545   1.000000   -0.018     0.9860\n",
      "             X4   0.096893   1.000000    0.097     0.9228\n",
      "             X5   0.774058   1.000000    0.774     0.4389\n",
      "             X6  -0.107667   1.000000   -0.108     0.9143\n",
      "             X7   0.107398   1.000000    0.107     0.9145\n",
      "             X8   0.003415   1.000000    0.003     0.9973\n",
      "----------------------------------------------------------------------\n",
      "Signif. codes:  0 '***' 0.001 '**' 0.01 '*' 0.05 '.' 0.1 ' ' 1\n",
      "\n",
      "Residual standard error: 0.7055 on 89 degrees of freedom\n",
      "Multiple R-squared:  0.6537\n",
      "Adjusted R-squared:  0.6265\n",
      "F-statistic: 21.25 on 8 and 89 DF\n",
      "p-value: 0.0000\n"
     ]
    }
   ],
   "source": [
    "mod = r.lm(X, y=y)\n",
    "print(mod.summary())"
   ]
  },
  {
   "cell_type": "code",
   "execution_count": 12,
   "id": "63864c84",
   "metadata": {},
   "outputs": [
    {
     "data": {
      "text/plain": [
       "{'implementation': 'C (high-performance)',\n",
       " 'module': 'rthon.regression._c_ext',\n",
       " 'available': True,\n",
       " 'performance': '~10-100x faster than Python'}"
      ]
     },
     "execution_count": 12,
     "metadata": {},
     "output_type": "execute_result"
    }
   ],
   "source": [
    "r.lm_info()"
   ]
  }
 ],
 "metadata": {
  "kernelspec": {
   "display_name": "base",
   "language": "python",
   "name": "python3"
  },
  "language_info": {
   "codemirror_mode": {
    "name": "ipython",
    "version": 3
   },
   "file_extension": ".py",
   "mimetype": "text/x-python",
   "name": "python",
   "nbconvert_exporter": "python",
   "pygments_lexer": "ipython3",
   "version": "3.10.12"
  }
 },
 "nbformat": 4,
 "nbformat_minor": 5
}

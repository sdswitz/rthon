{
 "cells": [
  {
   "cell_type": "code",
   "execution_count": 2,
   "id": "5b614a6c",
   "metadata": {},
   "outputs": [],
   "source": [
    "from src.rprob import dnorm, pnorm, qnorm, rnorm"
   ]
  },
  {
   "cell_type": "code",
   "execution_count": 3,
   "id": "b18dce24",
   "metadata": {},
   "outputs": [
    {
     "data": {
      "text/plain": [
       "0.9986501019683699"
      ]
     },
     "execution_count": 3,
     "metadata": {},
     "output_type": "execute_result"
    }
   ],
   "source": [
    "pnorm(145, 100, 15)"
   ]
  },
  {
   "cell_type": "code",
   "execution_count": 3,
   "id": "e0251830",
   "metadata": {},
   "outputs": [
    {
     "data": {
      "text/plain": [
       "[0.24197072451914337, 0.3989422804014327, 0.24197072451914337]"
      ]
     },
     "execution_count": 3,
     "metadata": {},
     "output_type": "execute_result"
    }
   ],
   "source": [
    "dnorm([0,1,2], mean=1)"
   ]
  },
  {
   "cell_type": "code",
   "execution_count": 8,
   "id": "e08bcb53",
   "metadata": {},
   "outputs": [
    {
     "data": {
      "text/plain": [
       "0.9499999999997494"
      ]
     },
     "execution_count": 8,
     "metadata": {},
     "output_type": "execute_result"
    }
   ],
   "source": [
    "pnorm(qnorm(0.95))"
   ]
  },
  {
   "cell_type": "code",
   "execution_count": null,
   "id": "b1c91780",
   "metadata": {},
   "outputs": [],
   "source": []
  }
 ],
 "metadata": {
  "kernelspec": {
   "display_name": "base",
   "language": "python",
   "name": "python3"
  },
  "language_info": {
   "codemirror_mode": {
    "name": "ipython",
    "version": 3
   },
   "file_extension": ".py",
   "mimetype": "text/x-python",
   "name": "python",
   "nbconvert_exporter": "python",
   "pygments_lexer": "ipython3",
   "version": "3.10.12"
  }
 },
 "nbformat": 4,
 "nbformat_minor": 5
}
